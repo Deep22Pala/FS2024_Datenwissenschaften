{
 "cells": [
  {
   "cell_type": "markdown",
   "metadata": {},
   "source": [
    "<h2><center>Week 3 - Assignment</center></h2>\n",
    "<h3><center>Programming for Data Science 2024</center></h3>"
   ]
  },
  {
   "cell_type": "markdown",
   "metadata": {},
   "source": [
    "Exercises for the topics covered in the third lecture.\n",
    "\n",
    "The exercise will be marked as passed if you get **at least 10/15** points.\n",
    "\n",
    "Exercises must be handed in via **ILIAS** (Homework assignments). Deliver your submission as a compressed file (zip) containing one .py or .ipynb file with all exercises. The name of both the .zip and the .py/.ipynb file must be *SurnameName* of the two members of the group. Example: Riccardo Cusinato + Athina Tzovara = *CusinatoRiccardo_TzovaraAthina.zip* .\n",
    "\n",
    "It's important to use comments to explain your code and show that you're able to take ownership of the exercises and discuss them.\n",
    "\n",
    "You are not expected to collaborate outside of the group on exercises and submitting other groups’ code as your own will result in 0 points.\n",
    "\n",
    "For questions contact: *riccardo.cusinato@unibe.ch* with the subject: *Programming for Data Science 2024*.\n",
    "\n",
    "**Deadline: 14:00, March 14, 2024.**"
   ]
  },
  {
   "cell_type": "markdown",
   "metadata": {},
   "source": [
    "<h3 style=\"text-align:left;\">Exercise 1 - Error investigation<span style=\"float: right\">2 points</span></h3>"
   ]
  },
  {
   "cell_type": "markdown",
   "metadata": {},
   "source": [
    "The code below squares and sums the numbers in the array *arr*, and holds the result in the variable *squared_sum*, which should be 1135. However, that is not the case. Correct the code and explain in a comment , clearly and amply, what was wrong."
   ]
  },
  {
   "cell_type": "code",
   "execution_count": 2,
   "metadata": {},
   "outputs": [
    {
     "data": {
      "text/plain": [
       "1135"
      ]
     },
     "execution_count": 2,
     "metadata": {},
     "output_type": "execute_result"
    }
   ],
   "source": [
    "import numpy as np\n",
    "\n",
    "# arr = np.array([13, 14, 15, 16, 17], dtype=np.int8)\n",
    "# correct code:\n",
    "arr = np.array([13, 14, 15, 16, 17], dtype=np.int16)    \n",
    "squared_sum = np.sum(arr ** 2)\n",
    "squared_sum"
   ]
  },
  {
   "cell_type": "code",
   "execution_count": null,
   "metadata": {},
   "outputs": [],
   "source": [
    "###\n",
    "\"\"\"\n",
    "The Output was wrong due to the fact that the dtype is set to int8, which is not enough to store the squared sum of the array.int8 represents numbers from -128 to 127.\n",
    "We have to set the dtype to int16 to store the squared sum of the array. int16 represents numbers from -32768 to 32767.\n",
    "\"\"\"\n",
    "###"
   ]
  },
  {
   "cell_type": "markdown",
   "metadata": {},
   "source": [
    "<h3 style=\"text-align:left;\">Exercise 2 - Vacation selector<span style=\"float: right\">3 points</span></h3>"
   ]
  },
  {
   "cell_type": "markdown",
   "metadata": {},
   "source": [
    "The code below defines five vacation destinations (*locations*) and four attributes for each (*attributes*). Each row describes one destination, and the columns represent scores on the factors scenery, activities, food, and nightlife.\n",
    "\n",
    "Write a function *vacation_advisor* that asks the user whether they find each of the attributes important or not, and suggests the best vacation spot based on these preferences.\n",
    "\n",
    "Use techniques from the third lecture to solve the exercise.\n",
    "\n",
    "Example interaction:\n",
    "```python\n",
    "Is scenery important to you [y/n]?    > y\n",
    "Is activities important to you [y/n]? > y\n",
    "Is food important to you [y/n]?       > n\n",
    "Is nightlife important to you [y/n]?  > n\n",
    "Based on your preferences, the best destination is Australia\n",
    "```"
   ]
  },
  {
   "cell_type": "code",
   "execution_count": 16,
   "metadata": {},
   "outputs": [],
   "source": [
    "# List of destinations\n",
    "locations = np.array([ \"Hawaii\", \"Thailand\", \"Italy\", \"Australia\", \"Japan\" ])\n",
    "\n",
    "# List of attributes for each destination. Each column is an attribute. Each row a destination.\n",
    "attributes = np.array([\n",
    "    [8, 8, 7, 6],\n",
    "    [7, 9, 8, 7],\n",
    "    [8, 6, 9, 7],\n",
    "    [9, 8, 8, 6],\n",
    "    [7, 9, 7, 8]\n",
    "])\n",
    "\n",
    "# Declare attribute names and initialize boolean array with preferences\n",
    "attribute_names = ['scenery', 'activities', 'food', 'nightlife']\n"
   ]
  },
  {
   "cell_type": "code",
   "execution_count": 17,
   "metadata": {},
   "outputs": [
    {
     "name": "stdout",
     "output_type": "stream",
     "text": [
      "Based on your preferences, the best destination is Australia\n"
     ]
    }
   ],
   "source": [
    "###\n",
    "def vacation_advisor(locations, attributes, attribute_names):\n",
    "    # initializing a boolean array with the length of the attribute_names\n",
    "    preferences = np.zeros(len(attribute_names), dtype=bool)\n",
    "\n",
    "    # itterating through the attribute_names and asking the user if the attribute is important to them. \n",
    "    for i in attribute_names:\n",
    "        user_input= input(f\"Is {i} important to you? [y/n]?\").lower()\n",
    "        if user_input == \"y\":\n",
    "            preferences[attribute_names.index(i)] = True # Changing the value of the boolean array to True if the user input is \"y\"\n",
    "\n",
    "    # Using the dot product to find the best destination based on the user's preferences\n",
    "    dot_product = np.dot(attributes, preferences)\n",
    "    best_destination = locations[np.argmax(dot_product)]\n",
    "    print(f\"Based on your preferences, the best destination is {best_destination}\")\n",
    "\n",
    "# Calling the function for test\n",
    "vacation_advisor(locations, attributes, attribute_names)\n",
    "###"
   ]
  },
  {
   "cell_type": "markdown",
   "metadata": {},
   "source": [
    "<h3 style=\"text-align:left;\">Exercise 3 - Indexing<span style=\"float: right\">3 points</span></h3>"
   ]
  },
  {
   "cell_type": "markdown",
   "metadata": {},
   "source": [
    "You have two arrays of the same length: temperature *temp*, and humidity, *rh*. Write a program that:\n",
    "1) Substitutes the values of *temp* for which the corresponding values of *rh* is less than 0.3 with *np.nan*.\n",
    "2) On this new temperature array, calculate the mean value (do **not** calculate it on the original array).\n",
    "\n",
    "As an example:\n",
    "\n",
    "```python\n",
    "temp = [70, 80, 90]\n",
    "rh = [0.5, 0.2, 0.6]\n",
    "\n",
    "temp_nan --> [70, np.nan, 90]\n",
    "temp_avg --> 80\n",
    "```"
   ]
  },
  {
   "cell_type": "code",
   "execution_count": 18,
   "metadata": {},
   "outputs": [],
   "source": [
    "# Generate some surrogate data\n",
    "\n",
    "np.random.seed(29041996)  # Make sure we all have the same data\n",
    "temp = 20 * np.cos(np.linspace(0, 2 * np.pi, 100)) + 80 + 2 * np.random.randn(100)\n",
    "rh = np.abs(0.1 * np.cos(np.linspace(0, 4 * np.pi, 100)) \n",
    "            + 0.3 + 0.05 * np.random.randn(100))"
   ]
  },
  {
   "cell_type": "code",
   "execution_count": 19,
   "metadata": {},
   "outputs": [
    {
     "name": "stdout",
     "output_type": "stream",
     "text": [
      "The new modified temp is [ 97.61100965  98.29758553 100.01692772  98.73758771  98.38710799\n",
      " 100.80608254 100.42365343          nan  97.34895106  99.28378744\n",
      "          nan  94.70357922          nan          nan          nan\n",
      "  89.2217891   89.41943969          nan          nan          nan\n",
      "  81.47344699          nan          nan          nan          nan\n",
      "          nan          nan          nan          nan          nan\n",
      "          nan          nan          nan          nan  68.73828046\n",
      "  67.47413002  68.54133082  65.53398191  64.56197892  64.19909813\n",
      "          nan          nan  59.92352112  63.86983538  61.88582567\n",
      "  59.71619218  59.84554475  60.32812302  59.09837842  60.02298563\n",
      "  58.56227652  58.99225298  57.80804413  61.99996728  61.91705067\n",
      "  60.34955294  62.5543744   62.38104106          nan  63.96025183\n",
      "  64.60977283  66.26614781  65.304059    68.41834429  65.57144047\n",
      "          nan          nan          nan          nan          nan\n",
      "          nan          nan          nan          nan          nan\n",
      "          nan          nan          nan          nan  86.7058803\n",
      "  86.03648805          nan          nan          nan          nan\n",
      "          nan  95.27172807  96.21598976  97.89869336          nan\n",
      "  96.62423422  95.02339723          nan          nan 100.59028821\n",
      " 102.35504581  98.02689537 102.72101463  99.04552748 101.36241685]\n",
      "The mean temperature is 79.00\n"
     ]
    }
   ],
   "source": [
    "###\n",
    "# replacing the values of temp with nan where the values of rh are less than 0.3\n",
    "temp_nan= np.where(rh<0.3, np.nan, temp)\n",
    "# np.nanmean ignores nan values for calulcating the mean\n",
    "temp_mean = np.nanmean(temp_nan)\n",
    "print(f\"The new modified temp is {temp_nan}\")\n",
    "print(f\"The mean temperature is {temp_mean:.2f}\") #The 2f is used to format the output to 2 decimal places\n",
    "\n",
    "###"
   ]
  },
  {
   "cell_type": "markdown",
   "metadata": {},
   "source": [
    "<h3 style=\"text-align:left;\">Exercise 4 - Base converter<span style=\"float: right\">2 points</span></h3>"
   ]
  },
  {
   "cell_type": "markdown",
   "metadata": {},
   "source": [
    "Write a function *int_to_bin* that takes a positive integer as input and returns the binary equivalent of that integer.\n",
    "\n",
    "You can **not** use built-in methods such as *bin()* in your solution."
   ]
  },
  {
   "cell_type": "code",
   "execution_count": 7,
   "metadata": {},
   "outputs": [
    {
     "name": "stdout",
     "output_type": "stream",
     "text": [
      "1010\n"
     ]
    }
   ],
   "source": [
    "###\n",
    "def int_to_bin(x):\n",
    "    if not isinstance(x,int) or x<0:\n",
    "        print(\"Input must be a positive integer\")\n",
    "    binary=\"\"\n",
    "    while x>0:\n",
    "        binary+=str(x%2)\n",
    "        x=x//2\n",
    "    return binary[::-1]\n",
    "\n",
    "# Testing the function\n",
    "print(int_to_bin(10))\n",
    "###"
   ]
  },
  {
   "cell_type": "markdown",
   "metadata": {},
   "source": [
    "<h3 style=\"text-align:left;\">Exercise 5 - Broadcasting<span style=\"float: right\">2 points</span></h3>"
   ]
  },
  {
   "cell_type": "markdown",
   "metadata": {},
   "source": [
    "Reshape *a* so it is possible to multiply *a* and *b*, and explain why you had to reshape *a* to be able to multiply the two arrays."
   ]
  },
  {
   "cell_type": "code",
   "execution_count": 11,
   "metadata": {},
   "outputs": [
    {
     "name": "stdout",
     "output_type": "stream",
     "text": [
      "[[ 2 12]\n",
      " [ 4 15]\n",
      " [ 6 18]]\n"
     ]
    }
   ],
   "source": [
    "import numpy as np\n",
    "\n",
    "a = np.array([[1, 2, 3], [4, 5, 6]])\n",
    "b = np.array([2, 3])\n",
    "\n",
    "###\n",
    "modified_a=a.T\n",
    "print(modified_a *b)    \n",
    "###"
   ]
  },
  {
   "cell_type": "code",
   "execution_count": null,
   "metadata": {},
   "outputs": [],
   "source": [
    "###\n",
    "# We need to reshape a, so that the number of columns in a is equal to the number of elements in b. Otherwise wo won't be able to perforfm elementwise multiplication.\n",
    "\n",
    "###"
   ]
  },
  {
   "cell_type": "markdown",
   "metadata": {},
   "source": [
    "<h3 style=\"text-align:left;\">Exercise 6 - Moving average<span style=\"float: right\">3 points</span></h3>"
   ]
  },
  {
   "cell_type": "markdown",
   "metadata": {},
   "source": [
    "Given the array of values, *a*, we can calculate the moving average by averaging nearby values and repeating the procedure sliding along the array. Here's an example of a 3-point moving average (ignoring the edges), with a for loop:"
   ]
  },
  {
   "cell_type": "code",
   "execution_count": 21,
   "metadata": {},
   "outputs": [
    {
     "name": "stdout",
     "output_type": "stream",
     "text": [
      "[35.3 30.8 32.2 29.8 28.7 28.2 33.6 31.3 28.6 31.3 28.5 28.6 30.8 29.4\n",
      " 31.7 31.9 31.2 29.3 30.7 33.3]\n",
      "[35.3        32.76666667 30.93333333 30.23333333 28.9        30.16666667\n",
      " 31.03333333 31.16666667 30.4        29.46666667 29.46666667 29.3\n",
      " 29.6        30.63333333 31.         31.6        30.8        30.4\n",
      " 31.1        33.3       ]\n"
     ]
    }
   ],
   "source": [
    "a = np.round(30 + np.random.randn(20) * 2, 1)\n",
    "print(a)\n",
    "\n",
    "# Moving average\n",
    "a_avg = np.zeros_like(a)\n",
    "# We're just ignoring the edge effects here\n",
    "for i in range(1, len(a) - 1):\n",
    "    sub = a[i - 1:i + 2]\n",
    "    a_avg[i] = sub.mean()\n",
    "# For the first and last point, we use the original values.\n",
    "a_avg[[0, -1]] = a[[0, -1]]\n",
    "print(a_avg)"
   ]
  },
  {
   "cell_type": "markdown",
   "metadata": {},
   "source": [
    "Write a function *mov_avg* that takes an array in input and returns its 3-point moving average. You **have to use broadcasting** to compute the moving average. As in the example, use the original array values at the borders."
   ]
  },
  {
   "cell_type": "code",
   "execution_count": 25,
   "metadata": {},
   "outputs": [
    {
     "name": "stdout",
     "output_type": "stream",
     "text": [
      "Original array:\n",
      "[35.3 30.8 32.2 29.8 28.7 28.2 33.6 31.3 28.6 31.3 28.5 28.6 30.8 29.4\n",
      " 31.7 31.9 31.2 29.3 30.7 33.3]\n",
      "\n",
      "3-point moving average:\n",
      "[35.3        32.76666667 30.93333333 30.23333333 28.9        30.16666667\n",
      " 31.03333333 31.16666667 30.4        29.46666667 29.46666667 29.3\n",
      " 29.6        30.63333333 31.         31.6        30.8        30.4\n",
      " 31.1        33.3       ]\n"
     ]
    }
   ],
   "source": [
    "###\n",
    "def mov_avg(a):\n",
    "    a_avg= np.zeros_like(a)\n",
    "    # Creating three windows to add three consecutive elements in a\n",
    "    sub=a[:-2]+a[1:-1]+a[2:]\n",
    "    # Assigning the average of the three consecutive elements to the corresponding position in a_avg. Note that the first and last elements are excluded.\n",
    "    a_avg[1:-1]= sub/3\n",
    "    # For the first and last element, we use the original values.\n",
    "    a_avg[[0, -1]] = a[[0, -1]]\n",
    "    return a_avg\n",
    "\n",
    "# Testing the function\n",
    "print(\"Original array:\")\n",
    "print(a)\n",
    "print(\"\\n3-point moving average:\")\n",
    "print(mov_avg(a))\n",
    "###"
   ]
  }
 ],
 "metadata": {
  "kernelspec": {
   "display_name": "dash",
   "language": "python",
   "name": "python3"
  },
  "language_info": {
   "codemirror_mode": {
    "name": "ipython",
    "version": 3
   },
   "file_extension": ".py",
   "mimetype": "text/x-python",
   "name": "python",
   "nbconvert_exporter": "python",
   "pygments_lexer": "ipython3",
   "version": "3.12.2"
  }
 },
 "nbformat": 4,
 "nbformat_minor": 2
}
